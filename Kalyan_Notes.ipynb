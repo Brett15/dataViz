{
 "cells": [
  {
   "cell_type": "code",
   "execution_count": null,
   "metadata": {},
   "outputs": [],
   "source": [
    "import pandas\n",
    "import numpy\n",
    "import matplotlib.pyplot\n",
    "import nose.tools\n",
    "%matplotlib inline\n",
    "# Data files:\n",
    "device = pandas.read_csv('device_info.csv')\n",
    "email = pandas.read_csv('email_info.csv')\n",
    "employee = pandas.read_csv('employee_info.csv')\n",
    "http = pandas.read_csv('http_info.csv')\n",
    "logon = pandas.read_csv('logon_info.csv')"
   ]
  },
  {
   "cell_type": "code",
   "execution_count": null,
   "metadata": {},
   "outputs": [],
   "source": [
    "\n",
    "names = employee.employee_name\n",
    "user_ids = employee.user_id\n",
    "emails = employee.email\n",
    "user_pcs = {}\n",
    "\n",
    "\n",
    "user_info = pandas.DataFrame()\n",
    "user_info[\"Name\"] = names\n",
    "user_info[\"User ID\"] = user_ids\n",
    "user_info[\"Email\"] = emails\n",
    "\n"
   ]
  },
  {
   "cell_type": "code",
   "execution_count": null,
   "metadata": {},
   "outputs": [],
   "source": [
    "user_pcs = {}\n",
    "device_user_pcs = {}\n",
    "http_user_pcs = {}\n",
    "logon_user_pcs = {}\n",
    "\n",
    "for index, row in device.iterrows():\n",
    "    user = row['user']\n",
    "    if user in user_pcs:\n",
    "        aset = user_pcs[user]\n",
    "        aset.add(row['pc'])\n",
    "        user_pcs[user] = aset\n",
    "        \n",
    "        if user in device_user_pcs:\n",
    "            aset2 = device_user_pcs[user]\n",
    "            aset2.add(row['pc'])\n",
    "            device_user_pcs[user] = aset2\n",
    "        \n",
    "    else:\n",
    "        user_pcs[user] = set([row['pc']])\n",
    "        device_user_pcs[user] = set([row['pc']])\n",
    "\n",
    "        \n",
    "for index, row in http.iterrows():\n",
    "    user = row['user']\n",
    "    if user in user_pcs:\n",
    "        aset = user_pcs[user]\n",
    "        aset.add(row['pc'])\n",
    "        user_pcs[user] = aset\n",
    "        \n",
    "        if user in http_user_pcs:\n",
    "            aset2 = http_user_pcs[user]\n",
    "            aset2.add(row['pc'])\n",
    "            http_user_pcs[user] = aset2\n",
    "        \n",
    "    else:\n",
    "        user_pcs[user] = set([row['pc']])\n",
    "        http_user_pcs[user] = set([row['pc']])\n",
    "\n",
    "for index, row in logon.iterrows():\n",
    "    user = row['user']\n",
    "    if user in user_pcs:\n",
    "        aset = user_pcs[user]\n",
    "        aset.add(row['pc'])\n",
    "        user_pcs[user] = aset\n",
    "        \n",
    "        if user in logon_user_pcs:\n",
    "            aset2 = logon_user_pcs[user]\n",
    "            aset2.add(row['pc'])\n",
    "            logon_user_pcs[user] = aset2\n",
    "        \n",
    "    else:\n",
    "        user_pcs[user] = set([row['pc']])\n",
    "        logon_user_pcs[user] = set([row['pc']])\n",
    "\n",
    "user_pcs"
   ]
  },
  {
   "cell_type": "code",
   "execution_count": null,
   "metadata": {},
   "outputs": [],
   "source": [
    "for user in user_pcs:\n",
    "    if len(user_pcs[user]) > 1:\n",
    "        print(user, user_pcs[user])"
   ]
  },
  {
   "cell_type": "code",
   "execution_count": null,
   "metadata": {},
   "outputs": [],
   "source": [
    "lst_of_fired_employees = ['CCD0463', 'CCH0959', 'CCO0065', 'CLN1234', 'CSF0929', 'DBM0279', 'DHB0696', 'DSL0441', 'DZJ0261', 'FKR0134', 'GGG0825', 'GHG0667', 'HAC0651', 'HMD0974', 'HMW0274', 'HRL0797', 'IQW0294', 'JAL0281', 'JQV0922', 'KAK0992', 'KHC0465', 'LCD0715', 'LKF0701', 'LRL0873','MBS0355', 'MJM0080', 'NPB0217', 'PAS0349', 'PIB0855', 'PJE0714','RDC0283', 'SAO0920', 'SKC0670', 'SMJ0486', 'SNL0096', 'WSP0210']\n",
    "\n",
    "for emp in lst_of_fired_employees:\n",
    "    print(len(user_pcs[emp]), emp)\n"
   ]
  },
  {
   "cell_type": "code",
   "execution_count": null,
   "metadata": {},
   "outputs": [],
   "source": [
    "employee[employee.user_id == 'CCD0463']"
   ]
  },
  {
   "cell_type": "code",
   "execution_count": null,
   "metadata": {},
   "outputs": [],
   "source": [
    "import datetime\n",
    "strangeTime = datetime.datetime.strptime(\"06:00:00\", '%H:%M:%S')\n",
    "device[\"strange\"] = [ strangeTime > datetime.datetime.strptime(x.split(\" \")[1],'%H:%M:%S')  for x in device.date]\n",
    "strangeDevice = device[device.strange == True].copy()"
   ]
  },
  {
   "cell_type": "code",
   "execution_count": null,
   "metadata": {},
   "outputs": [],
   "source": [
    "strangeDevice\n",
    "\n",
    "strange_freq_users_devices = {}\n",
    "\n",
    "for index, row in http.iterrows():\n",
    "    user = row[\"user\"]\n",
    "    if user in strange_freq_users_devices:\n",
    "        strange_freq_users_devices[user] += 1\n",
    "    else:\n",
    "        strange_freq_users_devices[user] = 1\n",
    "\n",
    "strange_freq_users_devices"
   ]
  },
  {
   "cell_type": "code",
   "execution_count": null,
   "metadata": {},
   "outputs": [],
   "source": [
    "import operator\n",
    "\n",
    "sorted_x = sorted(strange_freq_users_devices.items(), key=operator.itemgetter(1), reverse = True)\n",
    "sorted_x\n",
    "\n",
    "\n"
   ]
  },
  {
   "cell_type": "code",
   "execution_count": null,
   "metadata": {},
   "outputs": [],
   "source": []
  }
 ],
 "metadata": {
  "kernelspec": {
   "display_name": "Python 3",
   "language": "python",
   "name": "python3"
  },
  "language_info": {
   "codemirror_mode": {
    "name": "ipython",
    "version": 3
   },
   "file_extension": ".py",
   "mimetype": "text/x-python",
   "name": "python",
   "nbconvert_exporter": "python",
   "pygments_lexer": "ipython3",
   "version": "3.5.2"
  }
 },
 "nbformat": 4,
 "nbformat_minor": 2
}
