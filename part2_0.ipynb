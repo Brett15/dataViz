{
 "cells": [
  {
   "cell_type": "code",
   "execution_count": null,
   "metadata": {
    "collapsed": true
   },
   "outputs": [],
   "source": [
    "import pandas\n",
    "import numpy\n",
    "import matplotlib.pyplot\n",
    "import datetime\n",
    "%matplotlib inline\n",
    "# Data files:\n",
    "device = pandas.read_csv('device_info.csv')\n",
    "email = pandas.read_csv('email_info.csv')\n",
    "employee = pandas.read_csv('employee_info.csv')\n",
    "http = pandas.read_csv('http_info.csv')\n",
    "logon = pandas.read_csv('logon_info.csv')"
   ]
  },
  {
   "cell_type": "markdown",
   "metadata": {},
   "source": [
    "Our first set of suspects we looked at were people that were fired and also at thier supervisors. We quickly saw that this on its own was not enough to figure out who to focus on. However we can compare future analytics against this list to help us validate our suspicions"
   ]
  },
  {
   "cell_type": "code",
   "execution_count": null,
   "metadata": {
    "collapsed": true
   },
   "outputs": [],
   "source": [
    "user_ids = numpy.unique(employee.user_id)\n",
    "month = [\"\"] * len(user_ids)\n",
    "fired_date = pandas.DataFrame()\n",
    "fired_date[\"user_id\"] = user_ids\n",
    "fired_date[\"month\"] = month\n",
    "fired_date = fired_date.set_index(\"user_id\")\n",
    "\n",
    "for i in range(0, len(employee)):\n",
    "    currentRow = employee.iloc[i,:]\n",
    "    fired_date.loc[currentRow.user_id].month = currentRow.month\n",
    "    \n",
    "people_fired = fired_date[fired_date.month != \"11/1/17\"].copy()"
   ]
  },
  {
   "cell_type": "code",
   "execution_count": null,
   "metadata": {
    "collapsed": true
   },
   "outputs": [],
   "source": [
    "names = []\n",
    "supervisor = []\n",
    "for i in people_fired.index.get_values():\n",
    "    hold = employee[employee.user_id == i]\n",
    "    names.append(hold.employee_name.iloc[0])\n",
    "    supervisor.append(hold.supervisor.iloc[0])\n",
    "\n",
    "people_fired[\"name\"] = names\n",
    "people_fired[\"supervisor\"] = supervisor\n",
    "people_fired"
   ]
  },
  {
   "cell_type": "code",
   "execution_count": null,
   "metadata": {
    "collapsed": true
   },
   "outputs": [],
   "source": [
    "supervisor_fire_count = pandas.DataFrame(people_fired.groupby(\"supervisor\").count())\n",
    "del supervisor_fire_count[\"name\"]\n",
    "supervisor_fire_count.rename(columns = {\"month\" : \"Amount of people Fired\"}, inplace=True)\n",
    "supervisor_fire_count"
   ]
  },
  {
   "cell_type": "markdown",
   "metadata": {},
   "source": [
    "The next set of data that we decided to analyze was activity that occured outside of the normal work day. And again by its self we could not see any clear path to continue our investigation from just this data but will be usefull in documenting all suspicious activities of the employes."
   ]
  },
  {
   "cell_type": "code",
   "execution_count": null,
   "metadata": {
    "collapsed": true
   },
   "outputs": [],
   "source": [
    "strangeEarly = datetime.datetime.strptime(\"06:00:00\", '%H:%M:%S')\n",
    "strangeLate = datetime.datetime.strptime(\"18:00:00\", '%H:%M:%S')"
   ]
  },
  {
   "cell_type": "code",
   "execution_count": null,
   "metadata": {
    "collapsed": true
   },
   "outputs": [],
   "source": [
    "email\n",
    "emailOffHours = email\n",
    "emailOffHours[\"offHours\"] = [(datetime.datetime.strptime(x.split(\" \")[1],'%H:%M:%S') < strangeEarly) or (datetime.datetime.strptime(x.split(\" \")[1],'%H:%M:%S') > strangeLate)  for x in emailOffHours.date]\n",
    "emailOffHours = emailOffHours[emailOffHours.offHours]\n",
    "emailOffHours[\"day\"] = [x.split(\" \")[0] for x in emailOffHours.date]\n",
    "emailOffHours"
   ]
  },
  {
   "cell_type": "code",
   "execution_count": null,
   "metadata": {
    "collapsed": true
   },
   "outputs": [],
   "source": [
    "device\n",
    "deviceOffHours = device\n",
    "deviceOffHours[\"offHours\"] = [(datetime.datetime.strptime(x.split(\" \")[1],'%H:%M:%S') < strangeEarly) or (datetime.datetime.strptime(x.split(\" \")[1],'%H:%M:%S') > strangeLate)  for x in deviceOffHours.date]\n",
    "deviceOffHours = deviceOffHours[deviceOffHours.offHours]\n",
    "deviceOffHours[\"day\"] = [x.split(\" \")[0] for x in deviceOffHours.date]\n",
    "deviceOffHours"
   ]
  },
  {
   "cell_type": "code",
   "execution_count": null,
   "metadata": {
    "collapsed": true
   },
   "outputs": [],
   "source": [
    "logon\n",
    "logonOffHours = logon\n",
    "logonOffHours[\"offHours\"] = [(datetime.datetime.strptime(x.split(\" \")[1],'%H:%M:%S') < strangeEarly) or (datetime.datetime.strptime(x.split(\" \")[1],'%H:%M:%S') > strangeLate)  for x in logonOffHours.date]\n",
    "logonOffHours = logonOffHours[logonOffHours.offHours]\n",
    "logonOffHours[\"day\"] = [x.split(\" \")[0] for x in logonOffHours.date]\n",
    "logonOffHours"
   ]
  },
  {
   "cell_type": "code",
   "execution_count": null,
   "metadata": {
    "collapsed": true
   },
   "outputs": [],
   "source": [
    "http\n",
    "httpOffHours = http\n",
    "httpOffHours[\"offHours\"] = [(datetime.datetime.strptime(x.split(\" \")[1],'%H:%M:%S') < strangeEarly) or (datetime.datetime.strptime(x.split(\" \")[1],'%H:%M:%S') > strangeLate)  for x in httpOffHours.date]\n",
    "httpOffHours = httpOffHours[httpOffHours.offHours]\n",
    "httpOffHours[\"day\"] = [x.split(\" \")[0] for x in httpOffHours.date]\n",
    "httpOffHours"
   ]
  },
  {
   "cell_type": "code",
   "execution_count": null,
   "metadata": {
    "collapsed": true
   },
   "outputs": [],
   "source": [
    "httpOffHours.iloc[:,:].groupby(\"user\").day.count().plot.barh(figsize=(20,50))"
   ]
  },
  {
   "cell_type": "markdown",
   "metadata": {},
   "source": [
    "Building off of the last idea we decided to look at every record and mark down if suspicious activites occured, for now it is just a 1 if it occured and a 0 if it did not occur but in the future we can change it to be < 1 if an event occured and the user's job make sense for them to be causing that event (e.x. itadmins will have smaller number for working outside of work hours). "
   ]
  },
  {
   "cell_type": "code",
   "execution_count": null,
   "metadata": {
    "collapsed": true
   },
   "outputs": [],
   "source": [
    "susEmail = email.copy()\n",
    "susEmail[\"offHours\"] = [(datetime.datetime.strptime(x.split(\" \")[1],'%H:%M:%S') < strangeEarly) or (datetime.datetime.strptime(x.split(\" \")[1],'%H:%M:%S') > strangeLate)  for x in susEmail.date]\n",
    "susEmail[\"outside\"] = [(not(\"@dtaa.com\" in x)) for x in susEmail.to]\n",
    "eToU = dict(zip(employee.email, employee.user_id))\n",
    "uToE = dict(zip(employee.user_id, employee.email))\n",
    "susEmail[\"user\"] = [eToU[x] for x in susEmail.iloc[:,3]]"
   ]
  },
  {
   "cell_type": "code",
   "execution_count": null,
   "metadata": {
    "collapsed": true
   },
   "outputs": [],
   "source": [
    "susHttp = http.copy()\n",
    "susHttp[\"offHours\"] = [(datetime.datetime.strptime(x.split(\" \")[1],'%H:%M:%S') < strangeEarly) or (datetime.datetime.strptime(x.split(\" \")[1],'%H:%M:%S') > strangeLate)  for x in susHttp.date]\n",
    "susHttp[\"money\"] = [ (\"bank\" in x) or (\"pay\" in x)  for x in susHttp.url]"
   ]
  },
  {
   "cell_type": "code",
   "execution_count": null,
   "metadata": {
    "collapsed": true
   },
   "outputs": [],
   "source": [
    "susLogon = logon.copy()\n",
    "susLogon[\"offHours\"] = [(datetime.datetime.strptime(x.split(\" \")[1],'%H:%M:%S') < strangeEarly) or (datetime.datetime.strptime(x.split(\" \")[1],'%H:%M:%S') > strangeLate)  for x in susLogon.date]"
   ]
  },
  {
   "cell_type": "code",
   "execution_count": null,
   "metadata": {
    "collapsed": true
   },
   "outputs": [],
   "source": [
    "susDevice = device.copy()\n",
    "susDevice[\"offHours\"] = [(datetime.datetime.strptime(x.split(\" \")[1],'%H:%M:%S') < strangeEarly) or (datetime.datetime.strptime(x.split(\" \")[1],'%H:%M:%S') > strangeLate)  for x in susDevice.date]"
   ]
  },
  {
   "cell_type": "code",
   "execution_count": null,
   "metadata": {
    "collapsed": true
   },
   "outputs": [],
   "source": [
    "susHttp[\"offHours\"] = susHttp[\"offHours\"].apply(float)\n",
    "susHttp[\"money\"] = susHttp[\"money\"].apply(float)\n",
    "susEmail[\"offHours\"] = susEmail[\"offHours\"].apply(float)\n",
    "susEmail[\"outside\"] = susEmail[\"outside\"].apply(float)\n",
    "susLogon[\"offHours\"] = susLogon[\"offHours\"].apply(float)\n",
    "susDevice[\"offHours\"] = susDevice[\"offHours\"].apply(float)\n",
    "susHttp[\"day\"] = [x.split(\" \")[0] for x in susHttp.date]\n",
    "susEmail[\"day\"] = [x.split(\" \")[0] for x in susEmail.date]\n",
    "susLogon[\"day\"] = [x.split(\" \")[0] for x in susLogon.date]\n",
    "susDevice[\"day\"] = [x.split(\" \")[0] for x in susDevice.date]\n"
   ]
  },
  {
   "cell_type": "markdown",
   "metadata": {},
   "source": [
    "Then we looked at the people with the most suspicious activity overall"
   ]
  },
  {
   "cell_type": "code",
   "execution_count": null,
   "metadata": {
    "collapsed": true
   },
   "outputs": [],
   "source": [
    "df = pandas.DataFrame(susLogon.groupby(\"user\").offHours.sum())\n",
    "df.rename(columns={\"day\": \"logon\"}, inplace=True)\n",
    "df[\"http\"] = susHttp.groupby(\"user\").offHours.sum() + susHttp.groupby(\"user\").money.sum()\n",
    "df[\"email\"] = susEmail.groupby(\"user\").offHours.sum() + susEmail.groupby(\"user\").outside.sum()\n",
    "df[\"device\"] = susDevice.groupby(\"user\").offHours.sum()\n",
    "\n",
    "df = df.fillna(0.0)\n",
    "df[\"sum\"] = df.sum(axis=1)\n",
    "df = df.sort_values(\"sum\", ascending=False)\n"
   ]
  },
  {
   "cell_type": "markdown",
   "metadata": {},
   "source": [
    "Lastly for this analytics we decided to look at the top X suspicious people and look at thier mean suspicion for each day and the days prior. The idea here is to ignore people who are always supicious and to look for people who wernt suspicious who became suspicious then went back to not being suspicious, they might be involved in the incident and it could give us a timeframe for the incident also. "
   ]
  },
  {
   "cell_type": "code",
   "execution_count": null,
   "metadata": {
    "collapsed": true
   },
   "outputs": [],
   "source": [
    "for suspect in df.index[0:20]:\n",
    "    susEmail[susEmail.user == suspect].groupby(\"day\").offHours.sum()\n",
    "    suspect1 = pandas.DataFrame(susLogon[susLogon.user == suspect].groupby(\"day\").offHours.sum())\n",
    "    suspect1.rename(columns={\"offHours\": \"logon\"}, inplace=True)\n",
    "    suspect1[\"http\"] = susHttp[susHttp.user == suspect].groupby(\"day\").offHours.sum() + susHttp[susHttp.user == suspect].groupby(\"day\").money.sum()\n",
    "    suspect1[\"email\"] = susEmail[susEmail.user == suspect].groupby(\"day\").offHours.sum() + susEmail[susEmail.user == suspect].groupby(\"day\").outside.sum()\n",
    "    suspect1[\"device\"] = susDevice[susDevice.user == suspect].groupby(\"day\").offHours.sum()\n",
    "\n",
    "    suspect1 = suspect1.fillna(0.0)\n",
    "    suspect1[\"total\"] =suspect1.sum(axis=1)\n",
    "    #suspect1 = suspect1.sort_values(\"sum\", ascending=False)\n",
    "    suspect1[\"consistency\"] = [ suspect1.total.iloc[:i].mean()for i in range(len(suspect1))]\n",
    "    suspect1.plot.line(x=suspect1.index, y=\"consistency\", figsize=(15,5), title=suspect)"
   ]
  }
 ],
 "metadata": {
  "kernelspec": {
   "display_name": "Python 3",
   "language": "python",
   "name": "python3"
  },
  "language_info": {
   "codemirror_mode": {
    "name": "ipython",
    "version": 3
   },
   "file_extension": ".py",
   "mimetype": "text/x-python",
   "name": "python",
   "nbconvert_exporter": "python",
   "pygments_lexer": "ipython3",
   "version": "3.6.3"
  }
 },
 "nbformat": 4,
 "nbformat_minor": 2
}
