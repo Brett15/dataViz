{
 "cells": [
  {
   "cell_type": "code",
   "execution_count": null,
   "metadata": {
    "collapsed": true
   },
   "outputs": [],
   "source": [
    "import pandas\n",
    "import numpy\n",
    "import matplotlib.pyplot\n",
    "import datetime\n",
    "%matplotlib inline\n",
    "# Data files:\n",
    "device = pandas.read_csv('device_info.csv')\n",
    "email = pandas.read_csv('email_info.csv')\n",
    "employee = pandas.read_csv('employee_info.csv')\n",
    "http = pandas.read_csv('http_info.csv')\n",
    "logon = pandas.read_csv('logon_info.csv')"
   ]
  },
  {
   "cell_type": "code",
   "execution_count": null,
   "metadata": {
    "collapsed": true
   },
   "outputs": [],
   "source": [
    "user_ids = numpy.unique(employee.user_id)\n",
    "month = [\"\"] * len(user_ids)\n",
    "fired_date = pandas.DataFrame()\n",
    "fired_date[\"user_id\"] = user_ids\n",
    "fired_date[\"month\"] = month\n",
    "fired_date = fired_date.set_index(\"user_id\")\n",
    "\n",
    "for i in range(0, len(employee)):\n",
    "    currentRow = employee.iloc[i,:]\n",
    "    fired_date.loc[currentRow.user_id].month = currentRow.month\n",
    "    \n",
    "people_fired = fired_date[fired_date.month != \"11/1/17\"].copy()"
   ]
  },
  {
   "cell_type": "code",
   "execution_count": null,
   "metadata": {
    "collapsed": true
   },
   "outputs": [],
   "source": [
    "names = []\n",
    "supervisor = []\n",
    "for i in people_fired.index.get_values():\n",
    "    hold = employee[employee.user_id == i]\n",
    "    names.append(hold.employee_name.iloc[0])\n",
    "    supervisor.append(hold.supervisor.iloc[0])\n",
    "\n",
    "people_fired[\"name\"] = names\n",
    "people_fired[\"supervisor\"] = supervisor\n",
    "people_fired"
   ]
  },
  {
   "cell_type": "code",
   "execution_count": null,
   "metadata": {
    "collapsed": true
   },
   "outputs": [],
   "source": [
    "supervisor_fire_count = pandas.DataFrame(people_fired.groupby(\"supervisor\").count())\n",
    "del supervisor_fire_count[\"name\"]\n",
    "supervisor_fire_count.rename(columns = {\"month\" : \"Amount of people Fired\"}, inplace=True)\n",
    "supervisor_fire_count"
   ]
  },
  {
   "cell_type": "code",
   "execution_count": null,
   "metadata": {
    "collapsed": true
   },
   "outputs": [],
   "source": [
    "strangeEarly = datetime.datetime.strptime(\"06:00:00\", '%H:%M:%S')\n",
    "strangeLate = datetime.datetime.strptime(\"18:00:00\", '%H:%M:%S')"
   ]
  },
  {
   "cell_type": "code",
   "execution_count": null,
   "metadata": {
    "collapsed": true
   },
   "outputs": [],
   "source": [
    "email\n",
    "emailOffHours = email\n",
    "emailOffHours[\"offHours\"] = [(datetime.datetime.strptime(x.split(\" \")[1],'%H:%M:%S') < strangeEarly) or (datetime.datetime.strptime(x.split(\" \")[1],'%H:%M:%S') > strangeLate)  for x in emailOffHours.date]\n",
    "emailOffHours = emailOffHours[emailOffHours.offHours]\n",
    "emailOffHours[\"day\"] = [x.split(\" \")[0] for x in emailOffHours.date]\n",
    "emailOffHours"
   ]
  },
  {
   "cell_type": "code",
   "execution_count": null,
   "metadata": {
    "collapsed": true
   },
   "outputs": [],
   "source": [
    "device\n",
    "deviceOffHours = device\n",
    "deviceOffHours[\"offHours\"] = [(datetime.datetime.strptime(x.split(\" \")[1],'%H:%M:%S') < strangeEarly) or (datetime.datetime.strptime(x.split(\" \")[1],'%H:%M:%S') > strangeLate)  for x in deviceOffHours.date]\n",
    "deviceOffHours = deviceOffHours[deviceOffHours.offHours]\n",
    "deviceOffHours[\"day\"] = [x.split(\" \")[0] for x in deviceOffHours.date]\n",
    "deviceOffHours"
   ]
  },
  {
   "cell_type": "code",
   "execution_count": null,
   "metadata": {
    "collapsed": true
   },
   "outputs": [],
   "source": [
    "logon\n",
    "logonOffHours = logon\n",
    "logonOffHours[\"offHours\"] = [(datetime.datetime.strptime(x.split(\" \")[1],'%H:%M:%S') < strangeEarly) or (datetime.datetime.strptime(x.split(\" \")[1],'%H:%M:%S') > strangeLate)  for x in logonOffHours.date]\n",
    "logonOffHours = logonOffHours[logonOffHours.offHours]\n",
    "logonOffHours[\"day\"] = [x.split(\" \")[0] for x in logonOffHours.date]\n",
    "logonOffHours"
   ]
  },
  {
   "cell_type": "code",
   "execution_count": null,
   "metadata": {
    "collapsed": true
   },
   "outputs": [],
   "source": [
    "http\n",
    "httpOffHours = http\n",
    "httpOffHours[\"offHours\"] = [(datetime.datetime.strptime(x.split(\" \")[1],'%H:%M:%S') < strangeEarly) or (datetime.datetime.strptime(x.split(\" \")[1],'%H:%M:%S') > strangeLate)  for x in httpOffHours.date]\n",
    "httpOffHours = httpOffHours[httpOffHours.offHours]\n",
    "httpOffHours[\"day\"] = [x.split(\" \")[0] for x in httpOffHours.date]\n",
    "httpOffHours"
   ]
  },
  {
   "cell_type": "code",
   "execution_count": null,
   "metadata": {
    "collapsed": true
   },
   "outputs": [],
   "source": [
    "httpOffHours.iloc[:,:].groupby(\"user\").day.count().plot.barh(figsize=(20,50))"
   ]
  }
 ],
 "metadata": {
  "kernelspec": {
   "display_name": "Python 3",
   "language": "python",
   "name": "python3"
  },
  "language_info": {
   "codemirror_mode": {
    "name": "ipython",
    "version": 3
   },
   "file_extension": ".py",
   "mimetype": "text/x-python",
   "name": "python",
   "nbconvert_exporter": "python",
   "pygments_lexer": "ipython3",
   "version": "3.6.3"
  }
 },
 "nbformat": 4,
 "nbformat_minor": 2
}
