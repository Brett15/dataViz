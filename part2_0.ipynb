{
 "cells": [
  {
   "cell_type": "markdown",
   "metadata": {},
   "source": [
    "Team members:\n",
    "\n",
    "Geson Chong\n",
    "\n",
    "Kalyan Madanapalli\n",
    "\n",
    "Bret Tomko"
   ]
  },
  {
   "cell_type": "markdown",
   "metadata": {},
   "source": [
    "Current Hypothesis:\n",
    "\n",
    "\n",
    "Since the premise of this project was to solve a mystery, we thought that a person being fired may be a good enough reason to do such a thing (This may be part of the why). Due to this, we looked at the people that was fired between the months of May and November. We found that 36 people were not employed for the span between May and November. This list of people gave us a good starting point to look at. We then looked at what interactions these people may have in the other sections.\n",
    "\n",
    "1) If an employee has been fired and is still communicating with people still within the company, that employee is more suspicious.\n",
    "\n",
    "2) If a supervisor has a pattern of firing people, the supervisor can be classified as suspicious.\n",
    "\n",
    "We thought a user accessing multiple computers could be suspicious as he might be accessing private information. We also figured connecting/disconnecting usb device at non-standard hours would be fishy since the suspect would be alone and could upload/download private information not meant for him.\n",
    "\n",
    "3) If an employee has accessed multiple computers, then the employee is considered to be more suspicious than a user that hasn’t accessed as many computers. \n",
    "\n",
    "4) If an employee is using a usb device during non-standard work hours, then the employee is considered to be more suspicious.\n",
    "\n",
    "Since there are many jobs that cause an employee to have continuous suspicious behavior, we thought it would be a good idea to find employees that are normally not suspicious but became suspicious for a short while before returning to normal activity.\n",
    "\n",
    "5) If an employee is consistently suspicious throughout their whole employment then they are most likely not involved in this incident (same for someone who is consistently NOT suspicious).\n",
    "\n",
    "6) If an employee has lots of changes from low suspicion to high suspicion this could be a good suspect to look at more closely.\n",
    "\n",
    "7) If an employee who was mostly not suspicious from most of his employment becomes suspicious for a while before returning back to normal is likely involved in the incident.\n",
    "\n",
    "Looking at the number of suspicious activities per day showed a huge spike on 08/16/2017, something probably occurred on this day or the days leading up to it."
   ]
  },
  {
   "cell_type": "markdown",
   "metadata": {},
   "source": [
    "What we plan to do next:\n",
    "\n",
    "Create a list of employees that interesect all the hypotheses\n",
    "    "
   ]
  },
  {
   "cell_type": "code",
   "execution_count": null,
   "metadata": {},
   "outputs": [],
   "source": [
    "import pandas\n",
    "import numpy\n",
    "import matplotlib.pyplot\n",
    "import datetime\n",
    "%matplotlib inline\n",
    "# Data files:\n",
    "device = pandas.read_csv('device_info.csv')\n",
    "email = pandas.read_csv('email_info.csv')\n",
    "employee = pandas.read_csv('employee_info.csv')\n",
    "http = pandas.read_csv('http_info.csv')\n",
    "logon = pandas.read_csv('logon_info.csv')"
   ]
  },
  {
   "cell_type": "markdown",
   "metadata": {},
   "source": [
    "Our first set of suspects we looked at were people that were fired and also at thier supervisors. We quickly saw that this on its own was not enough to figure out who to focus on. However we can compare future analytics against this list to help us validate our suspicions"
   ]
  },
  {
   "cell_type": "code",
   "execution_count": null,
   "metadata": {},
   "outputs": [],
   "source": [
    "user_ids = numpy.unique(employee.user_id)\n",
    "month = [\"\"] * len(user_ids)\n",
    "fired_date = pandas.DataFrame()\n",
    "fired_date[\"user_id\"] = user_ids\n",
    "fired_date[\"month\"] = month\n",
    "fired_date = fired_date.set_index(\"user_id\")\n",
    "\n",
    "for i in range(0, len(employee)):\n",
    "    currentRow = employee.iloc[i,:]\n",
    "    fired_date.loc[currentRow.user_id].month = currentRow.month\n",
    "    \n",
    "people_fired = fired_date[fired_date.month != \"11/1/17\"].copy()"
   ]
  },
  {
   "cell_type": "code",
   "execution_count": null,
   "metadata": {},
   "outputs": [],
   "source": [
    "names = []\n",
    "supervisor = []\n",
    "for i in people_fired.index.get_values():\n",
    "    hold = employee[employee.user_id == i]\n",
    "    names.append(hold.employee_name.iloc[0])\n",
    "    supervisor.append(hold.supervisor.iloc[0])\n",
    "\n",
    "people_fired[\"name\"] = names\n",
    "people_fired[\"supervisor\"] = supervisor\n",
    "people_fired"
   ]
  },
  {
   "cell_type": "code",
   "execution_count": null,
   "metadata": {},
   "outputs": [],
   "source": [
    "supervisor_fire_count = pandas.DataFrame(people_fired.groupby(\"supervisor\").count())\n",
    "del supervisor_fire_count[\"name\"]\n",
    "supervisor_fire_count.rename(columns = {\"month\" : \"Amount of people Fired\"}, inplace=True)\n",
    "supervisor_fire_count"
   ]
  },
  {
   "cell_type": "markdown",
   "metadata": {},
   "source": [
    "The next set of data that we decided to analyze was activity that occured outside of the normal work day. And again by its self we could not see any clear path to continue our investigation from just this data but will be usefull in documenting all suspicious activities of the employes."
   ]
  },
  {
   "cell_type": "code",
   "execution_count": null,
   "metadata": {},
   "outputs": [],
   "source": [
    "strangeEarly = datetime.datetime.strptime(\"06:00:00\", '%H:%M:%S')\n",
    "strangeLate = datetime.datetime.strptime(\"18:00:00\", '%H:%M:%S')"
   ]
  },
  {
   "cell_type": "code",
   "execution_count": null,
   "metadata": {},
   "outputs": [],
   "source": [
    "email\n",
    "emailOffHours = email\n",
    "emailOffHours[\"offHours\"] = [(datetime.datetime.strptime(x.split(\" \")[1],'%H:%M:%S') < strangeEarly) or (datetime.datetime.strptime(x.split(\" \")[1],'%H:%M:%S') > strangeLate)  for x in emailOffHours.date]\n",
    "emailOffHours = emailOffHours[emailOffHours.offHours]\n",
    "emailOffHours[\"day\"] = [x.split(\" \")[0] for x in emailOffHours.date]\n",
    "emailOffHours"
   ]
  },
  {
   "cell_type": "code",
   "execution_count": null,
   "metadata": {},
   "outputs": [],
   "source": [
    "device\n",
    "deviceOffHours = device\n",
    "deviceOffHours[\"offHours\"] = [(datetime.datetime.strptime(x.split(\" \")[1],'%H:%M:%S') < strangeEarly) or (datetime.datetime.strptime(x.split(\" \")[1],'%H:%M:%S') > strangeLate)  for x in deviceOffHours.date]\n",
    "deviceOffHours = deviceOffHours[deviceOffHours.offHours]\n",
    "deviceOffHours[\"day\"] = [x.split(\" \")[0] for x in deviceOffHours.date]\n",
    "deviceOffHours"
   ]
  },
  {
   "cell_type": "code",
   "execution_count": null,
   "metadata": {},
   "outputs": [],
   "source": [
    "logon\n",
    "logonOffHours = logon\n",
    "logonOffHours[\"offHours\"] = [(datetime.datetime.strptime(x.split(\" \")[1],'%H:%M:%S') < strangeEarly) or (datetime.datetime.strptime(x.split(\" \")[1],'%H:%M:%S') > strangeLate)  for x in logonOffHours.date]\n",
    "logonOffHours = logonOffHours[logonOffHours.offHours]\n",
    "logonOffHours[\"day\"] = [x.split(\" \")[0] for x in logonOffHours.date]\n",
    "logonOffHours"
   ]
  },
  {
   "cell_type": "code",
   "execution_count": null,
   "metadata": {},
   "outputs": [],
   "source": [
    "http\n",
    "httpOffHours = http\n",
    "httpOffHours[\"offHours\"] = [(datetime.datetime.strptime(x.split(\" \")[1],'%H:%M:%S') < strangeEarly) or (datetime.datetime.strptime(x.split(\" \")[1],'%H:%M:%S') > strangeLate)  for x in httpOffHours.date]\n",
    "httpOffHours = httpOffHours[httpOffHours.offHours]\n",
    "httpOffHours[\"day\"] = [x.split(\" \")[0] for x in httpOffHours.date]\n",
    "httpOffHours"
   ]
  },
  {
   "cell_type": "code",
   "execution_count": null,
   "metadata": {},
   "outputs": [],
   "source": [
    "httpOffHours.iloc[:,:].groupby(\"user\").day.count().plot.barh(figsize=(20,50))"
   ]
  },
  {
   "cell_type": "markdown",
   "metadata": {},
   "source": [
    "Building off of the last idea we decided to look at every record and mark down if suspicious activites occured, for now it is just a 1 if it occured and a 0 if it did not occur but in the future we can change it to be < 1 if an event occured and the user's job make sense for them to be causing that event (e.x. itadmins will have smaller number for working outside of work hours). "
   ]
  },
  {
   "cell_type": "code",
   "execution_count": null,
   "metadata": {},
   "outputs": [],
   "source": [
    "susEmail = email.copy()\n",
    "susEmail[\"offHours\"] = [(datetime.datetime.strptime(x.split(\" \")[1],'%H:%M:%S') < strangeEarly) or (datetime.datetime.strptime(x.split(\" \")[1],'%H:%M:%S') > strangeLate)  for x in susEmail.date]\n",
    "susEmail[\"outside\"] = [(not(\"@dtaa.com\" in x)) for x in susEmail.to]\n",
    "eToU = dict(zip(employee.email, employee.user_id))\n",
    "uToE = dict(zip(employee.user_id, employee.email))\n",
    "susEmail[\"user\"] = [eToU[x] for x in susEmail.iloc[:,3]]"
   ]
  },
  {
   "cell_type": "code",
   "execution_count": null,
   "metadata": {},
   "outputs": [],
   "source": [
    "susHttp = http.copy()\n",
    "susHttp[\"offHours\"] = [(datetime.datetime.strptime(x.split(\" \")[1],'%H:%M:%S') < strangeEarly) or (datetime.datetime.strptime(x.split(\" \")[1],'%H:%M:%S') > strangeLate)  for x in susHttp.date]\n",
    "susHttp[\"money\"] = [ (\"bank\" in x) or (\"pay\" in x)  for x in susHttp.url]"
   ]
  },
  {
   "cell_type": "code",
   "execution_count": null,
   "metadata": {},
   "outputs": [],
   "source": [
    "susLogon = logon.copy()\n",
    "susLogon[\"offHours\"] = [(datetime.datetime.strptime(x.split(\" \")[1],'%H:%M:%S') < strangeEarly) or (datetime.datetime.strptime(x.split(\" \")[1],'%H:%M:%S') > strangeLate)  for x in susLogon.date]"
   ]
  },
  {
   "cell_type": "code",
   "execution_count": null,
   "metadata": {},
   "outputs": [],
   "source": [
    "susDevice = device.copy()\n",
    "susDevice[\"offHours\"] = [(datetime.datetime.strptime(x.split(\" \")[1],'%H:%M:%S') < strangeEarly) or (datetime.datetime.strptime(x.split(\" \")[1],'%H:%M:%S') > strangeLate)  for x in susDevice.date]"
   ]
  },
  {
   "cell_type": "code",
   "execution_count": null,
   "metadata": {},
   "outputs": [],
   "source": [
    "susHttp[\"offHours\"] = susHttp[\"offHours\"].apply(float)\n",
    "susHttp[\"money\"] = susHttp[\"money\"].apply(float)\n",
    "susEmail[\"offHours\"] = susEmail[\"offHours\"].apply(float)\n",
    "susEmail[\"outside\"] = susEmail[\"outside\"].apply(float)\n",
    "susLogon[\"offHours\"] = susLogon[\"offHours\"].apply(float)\n",
    "susDevice[\"offHours\"] = susDevice[\"offHours\"].apply(float)\n",
    "susHttp[\"day\"] = [x.split(\" \")[0] for x in susHttp.date]\n",
    "susEmail[\"day\"] = [x.split(\" \")[0] for x in susEmail.date]\n",
    "susLogon[\"day\"] = [x.split(\" \")[0] for x in susLogon.date]\n",
    "susDevice[\"day\"] = [x.split(\" \")[0] for x in susDevice.date]\n"
   ]
  },
  {
   "cell_type": "markdown",
   "metadata": {},
   "source": [
    "Then we looked at the people with the most suspicious activity overall"
   ]
  },
  {
   "cell_type": "code",
   "execution_count": null,
   "metadata": {},
   "outputs": [],
   "source": [
    "df = pandas.DataFrame(susLogon.groupby(\"user\").offHours.sum())\n",
    "df.rename(columns={\"day\": \"logon\"}, inplace=True)\n",
    "df[\"http\"] = susHttp.groupby(\"user\").offHours.sum() + susHttp.groupby(\"user\").money.sum()\n",
    "df[\"email\"] = susEmail.groupby(\"user\").offHours.sum() + susEmail.groupby(\"user\").outside.sum()\n",
    "df[\"device\"] = susDevice.groupby(\"user\").offHours.sum()\n",
    "\n",
    "df = df.fillna(0.0)\n",
    "df[\"sum\"] = df.sum(axis=1)\n",
    "df = df.sort_values(\"sum\", ascending=False)"
   ]
  },
  {
   "cell_type": "markdown",
   "metadata": {},
   "source": [
    "Lastly for this analytics we decided to look at the top X suspicious people and look at thier mean suspicion for each day and the days prior. The idea here is to ignore people who are always supicious and to look for people who wernt suspicious who became suspicious then went back to not being suspicious, they might be involved in the incident and it could give us a timeframe for the incident also. "
   ]
  },
  {
   "cell_type": "code",
   "execution_count": null,
   "metadata": {},
   "outputs": [],
   "source": [
    "for suspect in df.index[0:20]:\n",
    "    susEmail[susEmail.user == suspect].groupby(\"day\").offHours.sum()\n",
    "    suspect1 = pandas.DataFrame(susLogon[susLogon.user == suspect].groupby(\"day\").offHours.sum())\n",
    "    suspect1.rename(columns={\"offHours\": \"logon\"}, inplace=True)\n",
    "    suspect1[\"http\"] = susHttp[susHttp.user == suspect].groupby(\"day\").offHours.sum() + susHttp[susHttp.user == suspect].groupby(\"day\").money.sum()\n",
    "    suspect1[\"email\"] = susEmail[susEmail.user == suspect].groupby(\"day\").offHours.sum() + susEmail[susEmail.user == suspect].groupby(\"day\").outside.sum()\n",
    "    suspect1[\"device\"] = susDevice[susDevice.user == suspect].groupby(\"day\").offHours.sum()\n",
    "\n",
    "    suspect1 = suspect1.fillna(0.0)\n",
    "    suspect1[\"total\"] =suspect1.sum(axis=1)\n",
    "    #suspect1 = suspect1.sort_values(\"sum\", ascending=False)\n",
    "    suspect1[\"consistency\"] = [ suspect1.total.iloc[:i].mean()for i in range(len(suspect1))]\n",
    "    suspect1.plot.line(x=suspect1.index, y=\"consistency\", figsize=(15,5), title=suspect)"
   ]
  },
  {
   "cell_type": "code",
   "execution_count": null,
   "metadata": {},
   "outputs": [],
   "source": [
    "susActivity = pandas.DataFrame(susLogon.groupby(\"day\").offHours.sum())\n",
    "susActivity.rename(columns={\"offHours\": \"logon\"}, inplace=True)\n",
    "susActivity[\"http\"] = susHttp.groupby(\"day\").offHours.sum() + susHttp.groupby(\"day\").money.sum()\n",
    "susActivity[\"email\"] = susEmail.groupby(\"day\").offHours.sum() + susEmail.groupby(\"day\").outside.sum()\n",
    "susActivity[\"device\"] = susDevice.groupby(\"day\").offHours.sum()\n",
    "\n",
    "susActivity = susActivity.fillna(0.0)\n",
    "susActivity[\"total\"] =susActivity.sum(axis=1)\n",
    "#suspect1 = suspect1.sort_values(\"sum\", ascending=False)\n",
    "susActivity[\"consistency\"] = [ susActivity.total.iloc[i-5:i].mean()for i in range(len(susActivity))]\n",
    "susActivity.plot.line(x=susActivity.index, y=\"total\", figsize=(15,5), title=\"All activity\")\n"
   ]
  },
  {
   "cell_type": "markdown",
   "metadata": {},
   "source": [
    "We also looked at how many computers were being used by each employee. We figured that an employee whose profession doesn't require to access many computers that is spotted using many computers could be flagged as suspicious."
   ]
  },
  {
   "cell_type": "code",
   "execution_count": null,
   "metadata": {},
   "outputs": [],
   "source": [
    "user_pcs = {}\n",
    "device_user_pcs = {}\n",
    "http_user_pcs = {}\n",
    "logon_user_pcs = {}\n",
    "\n",
    "for index, row in device.iterrows():\n",
    "    user = row['user']\n",
    "    if user in user_pcs:\n",
    "        aset = user_pcs[user]\n",
    "        aset.add(row['pc'])\n",
    "        user_pcs[user] = aset    \n",
    "        if user in device_user_pcs:\n",
    "            aset2 = device_user_pcs[user]\n",
    "            aset2.add(row['pc'])\n",
    "            device_user_pcs[user] = aset2    \n",
    "    else:\n",
    "        user_pcs[user] = set([row['pc']])\n",
    "        device_user_pcs[user] = set([row['pc']])\n",
    "\n",
    "        \n",
    "for index, row in http.iterrows():\n",
    "    user = row['user']\n",
    "    if user in user_pcs:\n",
    "        aset = user_pcs[user]\n",
    "        aset.add(row['pc'])\n",
    "        user_pcs[user] = aset   \n",
    "        if user in http_user_pcs:\n",
    "            aset2 = http_user_pcs[user]\n",
    "            aset2.add(row['pc'])\n",
    "            http_user_pcs[user] = aset2     \n",
    "    else:\n",
    "        user_pcs[user] = set([row['pc']])\n",
    "        http_user_pcs[user] = set([row['pc']])\n",
    "\n",
    "for index, row in logon.iterrows():\n",
    "    user = row['user']\n",
    "    if user in user_pcs:\n",
    "        aset = user_pcs[user]\n",
    "        aset.add(row['pc'])\n",
    "        user_pcs[user] = aset\n",
    "        if user in logon_user_pcs:\n",
    "            aset2 = logon_user_pcs[user]\n",
    "            aset2.add(row['pc'])\n",
    "            logon_user_pcs[user] = aset2\n",
    "    else:\n",
    "        user_pcs[user] = set([row['pc']])\n",
    "        logon_user_pcs[user] = set([row['pc']])\n",
    "\n",
    "user_pcs"
   ]
  },
  {
   "cell_type": "markdown",
   "metadata": {},
   "source": [
    "We decided to run k-means with 5 clusters on all the employees based on their suspicous activity parameters. We figured that a suspicious group would arise from one of these clusters."
   ]
  },
  {
   "cell_type": "code",
   "execution_count": null,
   "metadata": {},
   "outputs": [],
   "source": [
    "import sklearn.cluster\n",
    "import sklearn.manifold\n",
    "\n",
    "df2 = pandas.DataFrame(df.iloc[:,0:4])\n",
    "\n",
    "\n",
    "km = sklearn.cluster.KMeans(n_clusters=5)\n",
    "labels = km.fit_predict(df2)\n",
    "df2[\"cluster\"] = labels\n",
    "df2 # ran kmeans with 5 clusters"
   ]
  },
  {
   "cell_type": "markdown",
   "metadata": {},
   "source": [
    "We used MDS to flatten the parameters into 2 dimensions in order to visualize the data in a scatter plot."
   ]
  },
  {
   "cell_type": "code",
   "execution_count": null,
   "metadata": {},
   "outputs": [],
   "source": [
    "mds = sklearn.manifold.MDS(n_components=2, dissimilarity='euclidean', max_iter = 1000)\n",
    "data2D = mds.fit_transform(df2.copy())\n",
    "df3 = pandas.DataFrame(data2D, columns=[\"x\", \"y\"])\n",
    "df3.index = df2.index\n",
    "df3[\"cluster\"] = labels\n",
    "\n",
    "plt  = df3.plot.scatter(x = \"x\", y = \"y\", c = \"cluster\", colormap = matplotlib.pyplot.cm.Paired, sharex = False)\n",
    "plt"
   ]
  },
  {
   "cell_type": "code",
   "execution_count": null,
   "metadata": {},
   "outputs": [],
   "source": []
  }
 ],
 "metadata": {
  "kernelspec": {
   "display_name": "Python 3",
   "language": "python",
   "name": "python3"
  },
  "language_info": {
   "codemirror_mode": {
    "name": "ipython",
    "version": 3
   },
   "file_extension": ".py",
   "mimetype": "text/x-python",
   "name": "python",
   "nbconvert_exporter": "python",
   "pygments_lexer": "ipython3",
   "version": "3.5.2"
  }
 },
 "nbformat": 4,
 "nbformat_minor": 2
}
