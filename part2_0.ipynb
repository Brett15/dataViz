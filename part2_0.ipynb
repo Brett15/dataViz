{
 "cells": [
  {
   "cell_type": "code",
   "execution_count": null,
   "metadata": {},
   "outputs": [],
   "source": [
    "import pandas\n",
    "import numpy\n",
    "import matplotlib.pyplot\n",
    "%matplotlib inline\n",
    "# Data files:\n",
    "device = pandas.read_csv('device_info.csv')\n",
    "email = pandas.read_csv('email_info.csv')\n",
    "employee = pandas.read_csv('employee_info.csv')\n",
    "http = pandas.read_csv('http_info.csv')\n",
    "logon = pandas.read_csv('logon_info.csv')"
   ]
  },
  {
   "cell_type": "code",
   "execution_count": null,
   "metadata": {},
   "outputs": [],
   "source": [
    "user_ids = numpy.unique(employee.user_id)\n",
    "month = [\"\"] * len(user_ids)\n",
    "fired_date = pandas.DataFrame()\n",
    "fired_date[\"user_id\"] = user_ids\n",
    "fired_date[\"month\"] = month\n",
    "fired_date = fired_date.set_index(\"user_id\")\n",
    "\n",
    "for i in range(0, len(employee)):\n",
    "    currentRow = employee.iloc[i,:]\n",
    "    fired_date.loc[currentRow.user_id].month = currentRow.month\n",
    "    \n",
    "people_fired = fired_date[fired_date.month != \"11/1/17\"].copy()"
   ]
  },
  {
   "cell_type": "code",
   "execution_count": null,
   "metadata": {},
   "outputs": [],
   "source": [
    "names = []\n",
    "supervisor = []\n",
    "for i in people_fired.index.get_values():\n",
    "    hold = employee[employee.user_id == i]\n",
    "    names.append(hold.employee_name.iloc[0])\n",
    "    supervisor.append(hold.supervisor.iloc[0])\n",
    "\n",
    "people_fired[\"name\"] = names\n",
    "people_fired[\"supervisor\"] = supervisor\n",
    "people_fired"
   ]
  },
  {
   "cell_type": "code",
   "execution_count": null,
   "metadata": {},
   "outputs": [],
   "source": [
    "supervisor_fire_count = pandas.DataFrame(people_fired.groupby(\"supervisor\").count())\n",
    "del supervisor_fire_count[\"name\"]\n",
    "supervisor_fire_count.rename(columns = {\"month\" : \"Amount of people Fired\"}, inplace=True)\n",
    "supervisor_fire_count"
   ]
  },
  {
   "cell_type": "code",
   "execution_count": null,
   "metadata": {},
   "outputs": [],
   "source": []
  }
 ],
 "metadata": {
  "kernelspec": {
   "display_name": "Python 3",
   "language": "python",
   "name": "python3"
  },
  "language_info": {
   "codemirror_mode": {
    "name": "ipython",
    "version": 2
   },
   "file_extension": ".py",
   "mimetype": "text/x-python",
   "name": "python",
   "nbconvert_exporter": "python",
   "pygments_lexer": "ipython2",
   "version": "2.7.12"
  }
 },
 "nbformat": 4,
 "nbformat_minor": 2
}
