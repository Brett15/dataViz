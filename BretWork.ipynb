{
 "cells": [
  {
   "cell_type": "markdown",
   "metadata": {},
   "source": [
    "Suspects:\n",
    "Chancellor.Cody.Douglas     Sent multiple emails after being fired\n",
    "Cedric.Cyrus.Harrison       Sent multiple emails after being fired\n",
    "Chris L North               Never sent or reviced an email\n"
   ]
  },
  {
   "cell_type": "code",
   "execution_count": null,
   "metadata": {
    "collapsed": true
   },
   "outputs": [],
   "source": [
    "import pandas\n",
    "import numpy\n",
    "import matplotlib.pyplot\n",
    "import nose.tools\n",
    "%matplotlib inline\n",
    "# Data files:\n",
    "device = pandas.read_csv('device_info.csv')\n",
    "email = pandas.read_csv('email_info.csv')\n",
    "employee = pandas.read_csv('employee_info.csv')\n",
    "http = pandas.read_csv('http_info.csv')\n",
    "logon = pandas.read_csv('logon_info.csv')"
   ]
  },
  {
   "cell_type": "code",
   "execution_count": null,
   "metadata": {},
   "outputs": [],
   "source": [
    "print (len(numpy.unique(employee.email)))\n",
    "\n",
    "e = numpy.unique(email.iloc[:,3])\n",
    "len(e)"
   ]
  },
  {
   "cell_type": "code",
   "execution_count": null,
   "metadata": {},
   "outputs": [],
   "source": [
    "email"
   ]
  },
  {
   "cell_type": "code",
   "execution_count": null,
   "metadata": {},
   "outputs": [],
   "source": [
    "sender = numpy.unique(email.iloc[:,3])"
   ]
  },
  {
   "cell_type": "code",
   "execution_count": null,
   "metadata": {},
   "outputs": [],
   "source": [
    "g = email.groupby(\"from\")\n"
   ]
  },
  {
   "cell_type": "code",
   "execution_count": null,
   "metadata": {},
   "outputs": [],
   "source": [
    "communication = pandas.DataFrame(index=sender,data=g.to.aggregate(sum) , columns=[\"to\"])"
   ]
  },
  {
   "cell_type": "code",
   "execution_count": null,
   "metadata": {
    "collapsed": true
   },
   "outputs": [],
   "source": [
    "communication[\"num\"] = [len(x.split(\";\")) for x in communication.to]"
   ]
  },
  {
   "cell_type": "code",
   "execution_count": null,
   "metadata": {},
   "outputs": [],
   "source": [
    "communication.sort_index()"
   ]
  },
  {
   "cell_type": "code",
   "execution_count": null,
   "metadata": {},
   "outputs": [],
   "source": [
    "g.to.all().sort_index()"
   ]
  },
  {
   "cell_type": "code",
   "execution_count": null,
   "metadata": {},
   "outputs": [],
   "source": [
    "email.date"
   ]
  },
  {
   "cell_type": "code",
   "execution_count": null,
   "metadata": {
    "collapsed": true
   },
   "outputs": [],
   "source": [
    "import datetime\n",
    "strangeEarly = datetime.datetime.strptime(\"06:00:00\", '%H:%M:%S')\n",
    "strangeLate = datetime.datetime.strptime(\"18:00:00\", '%H:%M:%S')\n",
    "email[\"strange\"] = [ strangeTime > datetime.datetime.strptime(x.split(\" \")[1],'%H:%M:%S')  for x in email.date]"
   ]
  },
  {
   "cell_type": "code",
   "execution_count": null,
   "metadata": {},
   "outputs": [],
   "source": [
    "email[ ([\"Giacomo.Hamilton.Giles\" in x for x in email.iloc[:,3]]) ]"
   ]
  },
  {
   "cell_type": "code",
   "execution_count": null,
   "metadata": {},
   "outputs": [],
   "source": [
    "email\n",
    "emailOffHours = email\n",
    "emailOffHours[\"offHours\"] = [(datetime.datetime.strptime(x.split(\" \")[1],'%H:%M:%S') < strangeEarly) or (datetime.datetime.strptime(x.split(\" \")[1],'%H:%M:%S') > strangeLate)  for x in emailOffHours.date]\n",
    "emailOffHours = emailOffHours[emailOffHours.offHours]\n",
    "emailOffHours[\"day\"] = [x.split(\" \")[0] for x in emailOffHours.date]\n",
    "emailOffHours"
   ]
  },
  {
   "cell_type": "code",
   "execution_count": null,
   "metadata": {},
   "outputs": [],
   "source": [
    "device\n",
    "deviceOffHours = device\n",
    "deviceOffHours[\"offHours\"] = [(datetime.datetime.strptime(x.split(\" \")[1],'%H:%M:%S') < strangeEarly) or (datetime.datetime.strptime(x.split(\" \")[1],'%H:%M:%S') > strangeLate)  for x in deviceOffHours.date]\n",
    "deviceOffHours = deviceOffHours[deviceOffHours.offHours]\n",
    "deviceOffHours[\"day\"] = [x.split(\" \")[0] for x in deviceOffHours.date]\n",
    "deviceOffHours"
   ]
  },
  {
   "cell_type": "code",
   "execution_count": null,
   "metadata": {},
   "outputs": [],
   "source": [
    "logon\n",
    "logonOffHours = logon\n",
    "logonOffHours[\"offHours\"] = [(datetime.datetime.strptime(x.split(\" \")[1],'%H:%M:%S') < strangeEarly) or (datetime.datetime.strptime(x.split(\" \")[1],'%H:%M:%S') > strangeLate)  for x in logonOffHours.date]\n",
    "logonOffHours = logonOffHours[logonOffHours.offHours]\n",
    "logonOffHours[\"day\"] = [x.split(\" \")[0] for x in logonOffHours.date]\n",
    "logonOffHours"
   ]
  },
  {
   "cell_type": "code",
   "execution_count": null,
   "metadata": {},
   "outputs": [],
   "source": [
    "http\n",
    "httpOffHours = http\n",
    "httpOffHours[\"offHours\"] = [(datetime.datetime.strptime(x.split(\" \")[1],'%H:%M:%S') < strangeEarly) or (datetime.datetime.strptime(x.split(\" \")[1],'%H:%M:%S') > strangeLate)  for x in httpOffHours.date]\n",
    "httpOffHours = httpOffHours[httpOffHours.offHours]\n",
    "httpOffHours[\"day\"] = [x.split(\" \")[0] for x in httpOffHours.date]\n",
    "httpOffHours"
   ]
  },
  {
   "cell_type": "code",
   "execution_count": null,
   "metadata": {},
   "outputs": [],
   "source": [
    "httpOffHours[(httpOffHours.user == \"AUS0564\") & (httpOffHours.day == '08/16/2017')]"
   ]
  },
  {
   "cell_type": "code",
   "execution_count": null,
   "metadata": {},
   "outputs": [],
   "source": [
    "lotsOfActivity = httpOffHours.iloc[:,:].groupby(\"day\").user.value_counts().idxmax()\n",
    "lotsOfActivity"
   ]
  },
  {
   "cell_type": "code",
   "execution_count": null,
   "metadata": {},
   "outputs": [],
   "source": [
    "httpOffHours.iloc[:400,:].groupby(\"day\").user.value_counts().plot.barh(figsize=(20,50))"
   ]
  },
  {
   "cell_type": "code",
   "execution_count": null,
   "metadata": {},
   "outputs": [],
   "source": [
    "httpOffHours.iloc[:,:].groupby(\"user\").day.count().plot.barh(figsize=(20,50))\n"
   ]
  },
  {
   "cell_type": "code",
   "execution_count": null,
   "metadata": {},
   "outputs": [],
   "source": [
    "httpOffHours.groupby(\"user\").day.count()[0]"
   ]
  },
  {
   "cell_type": "code",
   "execution_count": null,
   "metadata": {
    "collapsed": true
   },
   "outputs": [],
   "source": []
  },
  {
   "cell_type": "code",
   "execution_count": null,
   "metadata": {
    "collapsed": true
   },
   "outputs": [],
   "source": []
  },
  {
   "cell_type": "code",
   "execution_count": null,
   "metadata": {
    "collapsed": true
   },
   "outputs": [],
   "source": []
  },
  {
   "cell_type": "code",
   "execution_count": null,
   "metadata": {
    "collapsed": true
   },
   "outputs": [],
   "source": []
  },
  {
   "cell_type": "code",
   "execution_count": null,
   "metadata": {
    "collapsed": true
   },
   "outputs": [],
   "source": []
  }
 ],
 "metadata": {
  "kernelspec": {
   "display_name": "Python 3",
   "language": "python",
   "name": "python3"
  },
  "language_info": {
   "codemirror_mode": {
    "name": "ipython",
    "version": 3
   },
   "file_extension": ".py",
   "mimetype": "text/x-python",
   "name": "python",
   "nbconvert_exporter": "python",
   "pygments_lexer": "ipython3",
   "version": "3.6.3"
  }
 },
 "nbformat": 4,
 "nbformat_minor": 2
}
