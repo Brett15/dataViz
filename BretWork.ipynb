{
 "cells": [
  {
   "cell_type": "markdown",
   "metadata": {},
   "source": [
    "Suspects:\n",
    "Chancellor.Cody.Douglas     Sent multiple emails after being fired\n",
    "Cedric.Cyrus.Harrison       Sent multiple emails after being fired\n",
    "Chris L North               Never sent or reviced an email\n"
   ]
  },
  {
   "cell_type": "code",
   "execution_count": null,
   "metadata": {
    "collapsed": true
   },
   "outputs": [],
   "source": [
    "import pandas\n",
    "import numpy\n",
    "import matplotlib.pyplot\n",
    "import nose.tools\n",
    "%matplotlib inline\n",
    "# Data files:\n",
    "device = pandas.read_csv('device_info.csv')\n",
    "email = pandas.read_csv('email_info.csv')\n",
    "employee = pandas.read_csv('employee_info.csv')\n",
    "http = pandas.read_csv('http_info.csv')\n",
    "logon = pandas.read_csv('logon_info.csv')"
   ]
  },
  {
   "cell_type": "code",
   "execution_count": null,
   "metadata": {},
   "outputs": [],
   "source": [
    "print (len(numpy.unique(employee.email)))\n",
    "\n",
    "e = numpy.unique(email.iloc[:,3])\n",
    "len(e)"
   ]
  },
  {
   "cell_type": "code",
   "execution_count": null,
   "metadata": {},
   "outputs": [],
   "source": [
    "email"
   ]
  },
  {
   "cell_type": "code",
   "execution_count": null,
   "metadata": {},
   "outputs": [],
   "source": [
    "sender = numpy.unique(email.iloc[:,3])"
   ]
  },
  {
   "cell_type": "code",
   "execution_count": null,
   "metadata": {},
   "outputs": [],
   "source": [
    "g = email.groupby(\"from\")\n"
   ]
  },
  {
   "cell_type": "code",
   "execution_count": null,
   "metadata": {},
   "outputs": [],
   "source": [
    "communication = pandas.DataFrame(index=sender,data=g.to.aggregate(sum) , columns=[\"to\"])"
   ]
  },
  {
   "cell_type": "code",
   "execution_count": null,
   "metadata": {
    "collapsed": true
   },
   "outputs": [],
   "source": [
    "communication[\"num\"] = [len(x.split(\";\")) for x in communication.to]"
   ]
  },
  {
   "cell_type": "code",
   "execution_count": null,
   "metadata": {},
   "outputs": [],
   "source": [
    "communication.sort_index()"
   ]
  },
  {
   "cell_type": "code",
   "execution_count": null,
   "metadata": {
    "collapsed": true
   },
   "outputs": [],
   "source": [
    "g.to.all().sort_index()"
   ]
  },
  {
   "cell_type": "code",
   "execution_count": null,
   "metadata": {},
   "outputs": [],
   "source": [
    "email.date"
   ]
  },
  {
   "cell_type": "code",
   "execution_count": null,
   "metadata": {
    "collapsed": true
   },
   "outputs": [],
   "source": [
    "import datetime\n",
    "strangeTime = datetime.datetime.strptime(\"06:00:00\", '%H:%M:%S')\n",
    "strangeLate = datetime.datetime.strptime(\"22:00:00\", '%H:%M:%S')\n",
    "email[\"strange\"] = [ strangeTime > datetime.datetime.strptime(x.split(\" \")[1],'%H:%M:%S')  for x in email.date]"
   ]
  },
  {
   "cell_type": "code",
   "execution_count": null,
   "metadata": {},
   "outputs": [],
   "source": [
    "email[ ([\"Giacomo.Hamilton.Giles\" in x for x in email.iloc[:,3]]) ]"
   ]
  },
  {
   "cell_type": "code",
   "execution_count": null,
   "metadata": {},
   "outputs": [],
   "source": [
    "email[(email.strange == True)]"
   ]
  },
  {
   "cell_type": "code",
   "execution_count": null,
   "metadata": {
    "collapsed": true
   },
   "outputs": [],
   "source": []
  }
 ],
 "metadata": {
  "kernelspec": {
   "display_name": "Python 3",
   "language": "python",
   "name": "python3"
  },
  "language_info": {
   "codemirror_mode": {
    "name": "ipython",
    "version": 3
   },
   "file_extension": ".py",
   "mimetype": "text/x-python",
   "name": "python",
   "nbconvert_exporter": "python",
   "pygments_lexer": "ipython3",
   "version": "3.6.3"
  }
 },
 "nbformat": 4,
 "nbformat_minor": 2
}
