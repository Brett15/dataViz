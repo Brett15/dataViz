{
 "cells": [
  {
   "cell_type": "markdown",
   "metadata": {},
   "source": [
    "Suspects:\n",
    "Chancellor.Cody.Douglas     Sent multiple emails after being fired\n",
    "Cedric.Cyrus.Harrison       Sent multiple emails after being fired\n",
    "Chris L North               Never sent or reviced an email\n"
   ]
  },
  {
   "cell_type": "code",
   "execution_count": null,
   "metadata": {
    "collapsed": true
   },
   "outputs": [],
   "source": [
    "import pandas\n",
    "import numpy\n",
    "import matplotlib.pyplot\n",
    "import nose.tools\n",
    "%matplotlib inline\n",
    "# Data files:\n",
    "device = pandas.read_csv('device_info.csv')\n",
    "email = pandas.read_csv('email_info.csv')\n",
    "employee = pandas.read_csv('employee_info.csv')\n",
    "http = pandas.read_csv('http_info.csv')\n",
    "logon = pandas.read_csv('logon_info.csv')"
   ]
  },
  {
   "cell_type": "code",
   "execution_count": null,
   "metadata": {},
   "outputs": [],
   "source": [
    "print (len(numpy.unique(employee.email)))\n",
    "\n",
    "e = numpy.unique(email.iloc[:,3])\n",
    "len(e)"
   ]
  },
  {
   "cell_type": "code",
   "execution_count": null,
   "metadata": {},
   "outputs": [],
   "source": [
    "email"
   ]
  },
  {
   "cell_type": "code",
   "execution_count": null,
   "metadata": {
    "collapsed": true
   },
   "outputs": [],
   "source": [
    "sender = numpy.unique(email.iloc[:,3])"
   ]
  },
  {
   "cell_type": "code",
   "execution_count": null,
   "metadata": {
    "collapsed": true
   },
   "outputs": [],
   "source": [
    "g = email.groupby(\"from\")\n"
   ]
  },
  {
   "cell_type": "code",
   "execution_count": null,
   "metadata": {
    "collapsed": true
   },
   "outputs": [],
   "source": [
    "communication = pandas.DataFrame(index=sender,data=g.to.aggregate(sum) , columns=[\"to\"])"
   ]
  },
  {
   "cell_type": "code",
   "execution_count": null,
   "metadata": {
    "collapsed": true
   },
   "outputs": [],
   "source": [
    "communication[\"num\"] = [len(x.split(\";\")) for x in communication.to]"
   ]
  },
  {
   "cell_type": "code",
   "execution_count": null,
   "metadata": {},
   "outputs": [],
   "source": [
    "communication.sort_index()"
   ]
  },
  {
   "cell_type": "code",
   "execution_count": null,
   "metadata": {},
   "outputs": [],
   "source": [
    "g.to.all().sort_index()"
   ]
  },
  {
   "cell_type": "code",
   "execution_count": null,
   "metadata": {
    "scrolled": true
   },
   "outputs": [],
   "source": [
    "email.date"
   ]
  },
  {
   "cell_type": "code",
   "execution_count": null,
   "metadata": {
    "collapsed": true
   },
   "outputs": [],
   "source": [
    "import datetime\n",
    "strangeEarly = datetime.datetime.strptime(\"06:00:00\", '%H:%M:%S')\n",
    "strangeLate = datetime.datetime.strptime(\"18:00:00\", '%H:%M:%S')"
   ]
  },
  {
   "cell_type": "code",
   "execution_count": null,
   "metadata": {
    "collapsed": true
   },
   "outputs": [],
   "source": [
    "email[ ([\"Giacomo.Hamilton.Giles\" in x for x in email.iloc[:,3]]) ]"
   ]
  },
  {
   "cell_type": "code",
   "execution_count": null,
   "metadata": {},
   "outputs": [],
   "source": [
    "email\n",
    "emailOffHours = email\n",
    "emailOffHours[\"offHours\"] = [(datetime.datetime.strptime(x.split(\" \")[1],'%H:%M:%S') < strangeEarly) or (datetime.datetime.strptime(x.split(\" \")[1],'%H:%M:%S') > strangeLate)  for x in emailOffHours.date]\n",
    "emailOffHours = emailOffHours[emailOffHours.offHours]\n",
    "emailOffHours[\"day\"] = [x.split(\" \")[0] for x in emailOffHours.date]\n",
    "emailOffHours"
   ]
  },
  {
   "cell_type": "code",
   "execution_count": null,
   "metadata": {},
   "outputs": [],
   "source": [
    "device\n",
    "deviceOffHours = device\n",
    "deviceOffHours[\"offHours\"] = [(datetime.datetime.strptime(x.split(\" \")[1],'%H:%M:%S') < strangeEarly) or (datetime.datetime.strptime(x.split(\" \")[1],'%H:%M:%S') > strangeLate)  for x in deviceOffHours.date]\n",
    "deviceOffHours = deviceOffHours[deviceOffHours.offHours]\n",
    "deviceOffHours[\"day\"] = [x.split(\" \")[0] for x in deviceOffHours.date]\n",
    "deviceOffHours"
   ]
  },
  {
   "cell_type": "code",
   "execution_count": null,
   "metadata": {},
   "outputs": [],
   "source": [
    "logon\n",
    "logonOffHours = logon\n",
    "logonOffHours[\"offHours\"] = [(datetime.datetime.strptime(x.split(\" \")[1],'%H:%M:%S') < strangeEarly) or (datetime.datetime.strptime(x.split(\" \")[1],'%H:%M:%S') > strangeLate)  for x in logonOffHours.date]\n",
    "logonOffHours = logonOffHours[logonOffHours.offHours]\n",
    "logonOffHours[\"day\"] = [x.split(\" \")[0] for x in logonOffHours.date]\n",
    "logonOffHours"
   ]
  },
  {
   "cell_type": "code",
   "execution_count": null,
   "metadata": {},
   "outputs": [],
   "source": [
    "http\n",
    "httpOffHours = http\n",
    "httpOffHours[\"offHours\"] = [(datetime.datetime.strptime(x.split(\" \")[1],'%H:%M:%S') < strangeEarly) or (datetime.datetime.strptime(x.split(\" \")[1],'%H:%M:%S') > strangeLate)  for x in httpOffHours.date]\n",
    "httpOffHours = httpOffHours[httpOffHours.offHours]\n",
    "httpOffHours[\"day\"] = [x.split(\" \")[0] for x in httpOffHours.date]\n",
    "httpOffHours"
   ]
  },
  {
   "cell_type": "code",
   "execution_count": null,
   "metadata": {},
   "outputs": [],
   "source": [
    "httpOffHours[(httpOffHours.user == \"AUS0564\") & (httpOffHours.day == '08/16/2017')]"
   ]
  },
  {
   "cell_type": "code",
   "execution_count": null,
   "metadata": {},
   "outputs": [],
   "source": [
    "lotsOfActivity = httpOffHours.iloc[:,:].groupby(\"day\").user.value_counts().idxmax()\n",
    "lotsOfActivity"
   ]
  },
  {
   "cell_type": "code",
   "execution_count": null,
   "metadata": {},
   "outputs": [],
   "source": [
    "httpOffHours.iloc[:400,:].groupby(\"day\").user.value_counts().plot.barh(figsize=(20,50))"
   ]
  },
  {
   "cell_type": "code",
   "execution_count": null,
   "metadata": {},
   "outputs": [],
   "source": [
    "httpOffHours.iloc[:,:].groupby(\"user\").day.count().plot.barh(figsize=(20,50))\n"
   ]
  },
  {
   "cell_type": "code",
   "execution_count": null,
   "metadata": {},
   "outputs": [],
   "source": [
    "httpOffHours.groupby(\"user\").day.count()"
   ]
  },
  {
   "cell_type": "code",
   "execution_count": null,
   "metadata": {},
   "outputs": [],
   "source": [
    "df = pandas.DataFrame(logonOffHours.groupby(\"user\").day.count())\n",
    "df.rename(columns={\"day\": \"logon\"}, inplace=True)\n",
    "df[\"http\"] = httpOffHours.groupby(\"user\").day.count()\n",
    "#df[\"email\"] = emailOffHours.groupby(\"user\").day.count()\n",
    "df[\"device\"] = deviceOffHours.groupby(\"user\").day.count()\n",
    "\n",
    "df = df.fillna(0.0)\n",
    "df[\"sum\"] = df.sum(axis=1)\n",
    "df = df.sort_values(\"sum\", ascending=False)\n",
    "#suspects = [x for x in df[\"sum\"] if x > 500]\n",
    "#suspects\n",
    "df"
   ]
  },
  {
   "cell_type": "code",
   "execution_count": null,
   "metadata": {},
   "outputs": [],
   "source": [
    "HighSus = employee.iloc[:,:].copy()\n",
    "i=0\n",
    "for x in df.iloc[:50,:].index:\n",
    "    print(employee[employee.user_id == x].employee_name + \".\"+ employee[employee.user_id == x].role)"
   ]
  },
  {
   "cell_type": "code",
   "execution_count": null,
   "metadata": {},
   "outputs": [],
   "source": [
    "df.iloc[:20,:].index"
   ]
  },
  {
   "cell_type": "code",
   "execution_count": null,
   "metadata": {},
   "outputs": [],
   "source": [
    "employee"
   ]
  },
  {
   "cell_type": "code",
   "execution_count": null,
   "metadata": {},
   "outputs": [],
   "source": [
    "http[http.user == \"JZA0447\"]"
   ]
  },
  {
   "cell_type": "code",
   "execution_count": null,
   "metadata": {
    "collapsed": true
   },
   "outputs": [],
   "source": [
    "httpTest = http.copy()"
   ]
  },
  {
   "cell_type": "code",
   "execution_count": null,
   "metadata": {
    "collapsed": true
   },
   "outputs": [],
   "source": [
    "httpTest[\"money\"] = [ (\"bank\" in x) or (\"pay\" in x)  for x in httpTest.url]"
   ]
  },
  {
   "cell_type": "code",
   "execution_count": null,
   "metadata": {},
   "outputs": [],
   "source": [
    "httpTest[httpTest.money]"
   ]
  },
  {
   "cell_type": "code",
   "execution_count": null,
   "metadata": {},
   "outputs": [],
   "source": [
    "httpTest[httpTest.money].groupby(\"user\").money.count().sort_values(ascending=False)"
   ]
  },
  {
   "cell_type": "code",
   "execution_count": null,
   "metadata": {
    "collapsed": true
   },
   "outputs": [],
   "source": [
    "email[\"outside\"] = [(not(\"@dtaa.com\" in x)) for x in email.to]"
   ]
  },
  {
   "cell_type": "code",
   "execution_count": null,
   "metadata": {
    "collapsed": true
   },
   "outputs": [],
   "source": [
    "email[\"outside\"] = email[\"outside\"].apply(float)"
   ]
  },
  {
   "cell_type": "code",
   "execution_count": null,
   "metadata": {},
   "outputs": [],
   "source": [
    "email[email.outside == 1]"
   ]
  },
  {
   "cell_type": "code",
   "execution_count": null,
   "metadata": {},
   "outputs": [],
   "source": [
    "[ x for x in employee.email if not(\"@dtaa.com\" in x)]"
   ]
  },
  {
   "cell_type": "code",
   "execution_count": null,
   "metadata": {
    "collapsed": true
   },
   "outputs": [],
   "source": [
    "susEmail = email.copy()"
   ]
  },
  {
   "cell_type": "code",
   "execution_count": null,
   "metadata": {
    "collapsed": true
   },
   "outputs": [],
   "source": [
    "susEmail[\"offHours\"] = [(datetime.datetime.strptime(x.split(\" \")[1],'%H:%M:%S') < strangeEarly) or (datetime.datetime.strptime(x.split(\" \")[1],'%H:%M:%S') > strangeLate)  for x in susEmail.date]\n",
    "susEmail[\"outside\"] = [(not(\"@dtaa.com\" in x)) for x in susEmail.to]\n",
    "eToU = dict(zip(employee.email, employee.user_id))\n",
    "uToE = dict(zip(employee.user_id, employee.email))\n",
    "susEmail[\"user\"] = [eToU[x] for x in susEmail.iloc[:,3]]"
   ]
  },
  {
   "cell_type": "code",
   "execution_count": null,
   "metadata": {
    "collapsed": true
   },
   "outputs": [],
   "source": [
    "susHttp = http.copy()"
   ]
  },
  {
   "cell_type": "code",
   "execution_count": null,
   "metadata": {
    "collapsed": true
   },
   "outputs": [],
   "source": [
    "susHttp[\"offHours\"] = [(datetime.datetime.strptime(x.split(\" \")[1],'%H:%M:%S') < strangeEarly) or (datetime.datetime.strptime(x.split(\" \")[1],'%H:%M:%S') > strangeLate)  for x in susHttp.date]\n",
    "susHttp[\"money\"] = [ (\"bank\" in x) or (\"pay\" in x)  for x in susHttp.url]"
   ]
  },
  {
   "cell_type": "code",
   "execution_count": null,
   "metadata": {
    "collapsed": true
   },
   "outputs": [],
   "source": [
    "susLogon = logon.copy()\n",
    "susLogon[\"offHours\"] = [(datetime.datetime.strptime(x.split(\" \")[1],'%H:%M:%S') < strangeEarly) or (datetime.datetime.strptime(x.split(\" \")[1],'%H:%M:%S') > strangeLate)  for x in susLogon.date]"
   ]
  },
  {
   "cell_type": "code",
   "execution_count": null,
   "metadata": {
    "collapsed": true
   },
   "outputs": [],
   "source": [
    "susDevice = device.copy()\n",
    "susDevice[\"offHours\"] = [(datetime.datetime.strptime(x.split(\" \")[1],'%H:%M:%S') < strangeEarly) or (datetime.datetime.strptime(x.split(\" \")[1],'%H:%M:%S') > strangeLate)  for x in susDevice.date]"
   ]
  },
  {
   "cell_type": "code",
   "execution_count": null,
   "metadata": {
    "collapsed": true
   },
   "outputs": [],
   "source": [
    "susHttp[\"offHours\"] = susHttp[\"offHours\"].apply(float)\n",
    "susHttp[\"money\"] = susHttp[\"money\"].apply(float)\n",
    "susEmail[\"offHours\"] = susEmail[\"offHours\"].apply(float)\n",
    "susEmail[\"outside\"] = susEmail[\"outside\"].apply(float)\n",
    "susLogon[\"offHours\"] = susLogon[\"offHours\"].apply(float)\n",
    "susDevice[\"offHours\"] = susDevice[\"offHours\"].apply(float)"
   ]
  },
  {
   "cell_type": "code",
   "execution_count": null,
   "metadata": {
    "collapsed": true
   },
   "outputs": [],
   "source": [
    "susHttp[\"day\"] = [x.split(\" \")[0] for x in susHttp.date]\n",
    "susEmail[\"day\"] = [x.split(\" \")[0] for x in susEmail.date]\n",
    "susLogon[\"day\"] = [x.split(\" \")[0] for x in susLogon.date]\n",
    "susDevice[\"day\"] = [x.split(\" \")[0] for x in susDevice.date]\n",
    "\n"
   ]
  },
  {
   "cell_type": "code",
   "execution_count": null,
   "metadata": {
    "collapsed": true
   },
   "outputs": [],
   "source": [
    "df = pandas.DataFrame(susLogon.groupby(\"user\").offHours.sum())\n",
    "df.rename(columns={\"day\": \"logon\"}, inplace=True)\n",
    "df[\"http\"] = susHttp.groupby(\"user\").offHours.sum() + susHttp.groupby(\"user\").money.sum()\n",
    "df[\"email\"] = susEmail.groupby(\"user\").offHours.sum() + susEmail.groupby(\"user\").outside.sum()\n",
    "df[\"device\"] = susDevice.groupby(\"user\").offHours.sum()\n",
    "\n",
    "df = df.fillna(0.0)\n",
    "df[\"sum\"] = df.sum(axis=1)\n",
    "df = df.sort_values(\"sum\", ascending=False)\n"
   ]
  },
  {
   "cell_type": "code",
   "execution_count": null,
   "metadata": {
    "scrolled": true
   },
   "outputs": [],
   "source": [
    "df"
   ]
  },
  {
   "cell_type": "code",
   "execution_count": null,
   "metadata": {
    "collapsed": true
   },
   "outputs": [],
   "source": []
  },
  {
   "cell_type": "code",
   "execution_count": null,
   "metadata": {
    "scrolled": true
   },
   "outputs": [],
   "source": [
    "susDevice.groupby(\"user\").offHours.sum()"
   ]
  },
  {
   "cell_type": "code",
   "execution_count": null,
   "metadata": {
    "collapsed": true
   },
   "outputs": [],
   "source": []
  },
  {
   "cell_type": "code",
   "execution_count": null,
   "metadata": {
    "collapsed": true
   },
   "outputs": [],
   "source": [
    "u  = [eToU[x] for x in susEmail.groupby(\"from\").groups.keys() ]"
   ]
  },
  {
   "cell_type": "code",
   "execution_count": null,
   "metadata": {
    "collapsed": true,
    "scrolled": true
   },
   "outputs": [],
   "source": [
    "susEmail.groupby(\"from\").offHours.sum().index = u\n"
   ]
  },
  {
   "cell_type": "code",
   "execution_count": null,
   "metadata": {},
   "outputs": [],
   "source": [
    "susEmail"
   ]
  },
  {
   "cell_type": "code",
   "execution_count": null,
   "metadata": {},
   "outputs": [],
   "source": [
    "susEmail.groupby(\"user\").aggregate(sum).sort_values(\"size\", ascending=False)"
   ]
  },
  {
   "cell_type": "code",
   "execution_count": null,
   "metadata": {},
   "outputs": [],
   "source": [
    "susEmail.groupby([\"user\", \"day\"]).offHours.sum()"
   ]
  },
  {
   "cell_type": "code",
   "execution_count": null,
   "metadata": {
    "collapsed": true
   },
   "outputs": [],
   "source": [
    "susEmail.groupby([\"user\",\"day\"]).offHours.sum() + susEmail.groupby([\"user\",\"day\"]).outside.sum()"
   ]
  },
  {
   "cell_type": "code",
   "execution_count": null,
   "metadata": {},
   "outputs": [],
   "source": [
    "df.index[:10]"
   ]
  },
  {
   "cell_type": "code",
   "execution_count": null,
   "metadata": {
    "collapsed": true
   },
   "outputs": [],
   "source": [
    "for suspect in df.index[0:20]:\n",
    "    susEmail[susEmail.user == suspect].groupby(\"day\").offHours.sum()\n",
    "    suspect1 = pandas.DataFrame(susLogon[susLogon.user == suspect].groupby(\"day\").offHours.sum())\n",
    "    suspect1.rename(columns={\"offHours\": \"logon\"}, inplace=True)\n",
    "    suspect1[\"http\"] = susHttp[susHttp.user == suspect].groupby(\"day\").offHours.sum() + susHttp[susHttp.user == suspect].groupby(\"day\").money.sum()\n",
    "    suspect1[\"email\"] = susEmail[susEmail.user == suspect].groupby(\"day\").offHours.sum() + susEmail[susEmail.user == suspect].groupby(\"day\").outside.sum()\n",
    "    suspect1[\"device\"] = susDevice[susDevice.user == suspect].groupby(\"day\").offHours.sum()\n",
    "\n",
    "    suspect1 = suspect1.fillna(0.0)\n",
    "    suspect1[\"total\"] =suspect1.sum(axis=1)\n",
    "    #suspect1 = suspect1.sort_values(\"sum\", ascending=False)\n",
    "    suspect1[\"consistency\"] = [ suspect1.total.iloc[i-5:i].mean()for i in range(len(suspect1))]\n",
    "    suspect1.plot.line(x=suspect1.index, y=\"consistency\", figsize=(15,5), title=suspect)"
   ]
  },
  {
   "cell_type": "code",
   "execution_count": null,
   "metadata": {
    "collapsed": true
   },
   "outputs": [],
   "source": [
    "suspect1"
   ]
  },
  {
   "cell_type": "code",
   "execution_count": null,
   "metadata": {
    "collapsed": true
   },
   "outputs": [],
   "source": [
    "suspect1.plot.line(x=suspect1.index, y=\"consistency\", figsize=(15,5))"
   ]
  },
  {
   "cell_type": "code",
   "execution_count": null,
   "metadata": {
    "collapsed": true
   },
   "outputs": [],
   "source": [
    "employee[employee.user_id == \"AVJ0078\"]"
   ]
  },
  {
   "cell_type": "code",
   "execution_count": null,
   "metadata": {},
   "outputs": [],
   "source": [
    "susHttp[(susHttp.user == \"ECC0383\") & (susHttp.day == \"08/18/2017\") ]"
   ]
  },
  {
   "cell_type": "code",
   "execution_count": null,
   "metadata": {},
   "outputs": [],
   "source": [
    "susEmail.size.dtype"
   ]
  },
  {
   "cell_type": "code",
   "execution_count": null,
   "metadata": {},
   "outputs": [],
   "source": [
    "suspects = pandas.DataFrame(susLogon.groupby(\"day\").offHours.sum())\n",
    "suspects.rename(columns={\"offHours\": \"logon\"}, inplace=True)\n",
    "suspects[\"http\"] = susHttp.groupby(\"day\").offHours.sum() + susHttp.groupby(\"day\").money.sum()\n",
    "suspects[\"email\"] = susEmail.groupby(\"day\").offHours.sum() + susEmail.groupby(\"day\").outside.sum()\n",
    "suspects[\"device\"] = susDevice.groupby(\"day\").offHours.sum()\n",
    "\n",
    "suspects = suspects.fillna(0.0)\n",
    "suspects[\"total\"] =suspects.sum(axis=1)\n",
    "#suspect1 = suspect1.sort_values(\"sum\", ascending=False)\n",
    "suspects[\"consistency\"] = [ suspects.total.iloc[i-5:i].mean()for i in range(len(suspects))]\n",
    "suspects.plot.line(x=suspects.index, y=\"total\", figsize=(15,5), title=\"All activity\")"
   ]
  },
  {
   "cell_type": "code",
   "execution_count": null,
   "metadata": {},
   "outputs": [],
   "source": [
    "suspects.total.idxmax()"
   ]
  },
  {
   "cell_type": "code",
   "execution_count": null,
   "metadata": {
    "collapsed": true
   },
   "outputs": [],
   "source": []
  }
 ],
 "metadata": {
  "kernelspec": {
   "display_name": "Python 3",
   "language": "python",
   "name": "python3"
  },
  "language_info": {
   "codemirror_mode": {
    "name": "ipython",
    "version": 3
   },
   "file_extension": ".py",
   "mimetype": "text/x-python",
   "name": "python",
   "nbconvert_exporter": "python",
   "pygments_lexer": "ipython3",
   "version": "3.6.3"
  }
 },
 "nbformat": 4,
 "nbformat_minor": 2
}
